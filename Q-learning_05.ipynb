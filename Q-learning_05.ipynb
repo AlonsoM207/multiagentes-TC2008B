{
 "cells": [
  {
   "cell_type": "code",
   "execution_count": 209,
   "metadata": {},
   "outputs": [],
   "source": [
    "# Importar librerías\n",
    "import matplotlib.pyplot as plt\n",
    "import numpy as np\n"
   ]
  },
  {
   "cell_type": "code",
   "execution_count": 210,
   "metadata": {},
   "outputs": [],
   "source": [
    "# Definimos el ambiente\n",
    "rows = 10\n",
    "columns = 2\n",
    "q_values = np.zeros((rows, columns, 4))"
   ]
  },
  {
   "cell_type": "code",
   "execution_count": 211,
   "metadata": {},
   "outputs": [],
   "source": [
    "# Definimos las acciones que se pueden tomar\n",
    "actions = [\"up\", \"down\", \"right\", \"left\"]"
   ]
  },
  {
   "cell_type": "code",
   "execution_count": 212,
   "metadata": {},
   "outputs": [],
   "source": [
    "# Recompensas\n",
    "rewards = np.full((rows, columns), -1)\n",
    "rewards[rows-1,0] = 100\n",
    "def get_initial_rewards():\n",
    "    global rewards\n",
    "    rewards = np.full((rows, columns), -1)\n",
    "    rewards[rows-1,0] = 100\n"
   ]
  },
  {
   "cell_type": "code",
   "execution_count": 213,
   "metadata": {},
   "outputs": [
    {
     "data": {
      "image/png": "[encoded data removed]",
      "text/plain": [
       "<Figure size 640x480 with 1 Axes>"
      ]
     },
     "metadata": {},
     "output_type": "display_data"
    }
   ],
   "source": [
    "# Create a figure and a grid of subplots\n",
    "fig, ax = plt.subplots()\n",
    "\n",
    "# Define colors for different rewards\n",
    "color_dict = {-1: 'white', -100: 'black', 100: 'green'}\n",
    "\n",
    "# Loop over data dimensions and create text annotations\n",
    "for i in range(rows):\n",
    "    for j in range(columns):\n",
    "        reward_value = rewards[i, j]\n",
    "        color = color_dict.get(reward_value, 'grey')  # Default color if a new reward value is encountered\n",
    "        rect = plt.Rectangle((j, rows - i - 1), 1, 1, color=color)\n",
    "        ax.add_patch(rect)\n",
    "        # Optionally add text annotations\n",
    "        text = ax.text(j + 0.5, rows - i - 0.5, int(reward_value), ha=\"center\", va=\"center\", color=\"black\")\n",
    "\n",
    "# Set the grid size\n",
    "ax.set_xlim(0, columns)\n",
    "ax.set_ylim(0, rows)\n",
    "ax.set_xticks(np.arange(0, columns, 1))\n",
    "ax.set_yticks(np.arange(0, rows, 1))\n",
    "ax.grid(which='both')\n",
    "\n",
    "plt.show()\n"
   ]
  },
  {
   "cell_type": "code",
   "execution_count": 214,
   "metadata": {},
   "outputs": [],
   "source": [
    "# Funcion para determinar si es un estado terminal (solo cuenta las caidas)\n",
    "def is_terminal_state(current_row_index, current_column_index):\n",
    "  if current_column_index > columns - 1 or current_column_index < 0:\n",
    "    return True\n",
    "  if current_row_index > rows - 1 or current_row_index < 0:\n",
    "    True\n",
    "\n",
    "  if rewards[current_row_index, current_column_index] == -1.:\n",
    "    return False\n",
    "  else:\n",
    "    return True\n",
    "\n",
    "# Obtener una posicion inicial randomizada \n",
    "def get_starting_location():\n",
    "  current_row_index = np.random.randint(rows)\n",
    "  current_column_index = np.random.randint(columns)\n",
    "\n",
    "  # garantizar que es una posicion valida\n",
    "  while is_terminal_state(current_row_index, current_column_index):\n",
    "    current_row_index = np.random.randint(rows)\n",
    "    current_column_index = np.random.randint(columns)\n",
    "  return current_row_index, current_column_index\n",
    "\n",
    "# Funcion para obtener la siguiente accion\n",
    "# Utiliza un algoritmo Epsilon-Greedy\n",
    "def get_next_action(current_row_index, current_column_index, epsilon):\n",
    "  # Si un numero random es mayor o igual a epsilon greedy, obtener una accion random\n",
    "  # Buscar en la lsita de Q values el mas alto\n",
    "  if np.random.random() < epsilon:\n",
    "    return np.argmax(q_values[current_row_index, current_column_index])\n",
    "  else: #choose a random action\n",
    "    return np.random.randint(4)\n",
    "\n",
    "# Obtener la siguiente posicion, basandose en la accion que va a tomar actualmente\n",
    "def get_next_location(current_row_index, current_column_index, action_index):\n",
    "  new_row_index = current_row_index\n",
    "  new_column_index = current_column_index\n",
    "  selected_action = actions[action_index]\n",
    "  if selected_action == 'up' and current_row_index > 0:\n",
    "    new_row_index -= 1\n",
    "  elif selected_action == 'right' and current_column_index < columns - 1:\n",
    "    new_column_index += 1\n",
    "  elif selected_action == 'down' and current_row_index < rows - 1:\n",
    "    new_row_index += 1\n",
    "  elif selected_action == 'left' and current_column_index > 0:\n",
    "    new_column_index -= 1\n",
    "  return new_row_index, new_column_index\n",
    "\n",
    "# Funcion para obtener el camino mas corto al final desde una posicion\n",
    "def get_shortest_path(start_row_index, start_column_index):\n",
    "  # no es posicion valida, no hay camino mas corto\n",
    "  if is_terminal_state(start_row_index, start_column_index):\n",
    "    return []\n",
    "  else:\n",
    "    current_row_index, current_column_index = start_row_index, start_column_index\n",
    "    shortest_path = []\n",
    "    shortest_path.append([current_row_index, current_column_index])\n",
    "    # while no se ha llegado al final\n",
    "    while not is_terminal_state(current_row_index, current_column_index):\n",
    "      # obtener la siguiente mejor accion\n",
    "      action_index = get_next_action(current_row_index, current_column_index, 1.)\n",
    "      # mover a la siguiente posicion y agregarla a la lista\n",
    "      current_row_index, current_column_index = get_next_location(current_row_index, current_column_index, action_index)\n",
    "      shortest_path.append([current_row_index, current_column_index])\n",
    "    return shortest_path\n",
    "\n"
   ]
  },
  {
   "cell_type": "code",
   "execution_count": 215,
   "metadata": {},
   "outputs": [],
   "source": [
    "def get_next_reward_map(reward_counter):\n",
    "    global rewards\n",
    "    if reward_counter == 0:\n",
    "        rewards = np.full((rows, columns), -1)\n",
    "        rewards[rows-1,1] = 100\n",
    "            \n"
   ]
  },
  {
   "cell_type": "code",
   "execution_count": 216,
   "metadata": {},
   "outputs": [
    {
     "name": "stdout",
     "output_type": "stream",
     "text": [
      "Training complete!\n"
     ]
    }
   ],
   "source": [
    "epsilon = 0.9 #the percentage of time when we should take the best action (instead of a random action)\n",
    "discount_factor = 0.8 #discount factor for future rewards\n",
    "learning_rate = 0.9 #the rate at which the AI agent should learn\n",
    "\n",
    "# entrenar por 1000 episodios\n",
    "for episode in range(1000):\n",
    "  get_initial_rewards()\n",
    "  reward_counter = 0\n",
    "  # posicion inicial de este episodio\n",
    "  row_index, column_index = get_starting_location()\n",
    "\n",
    "  #continue taking actions until we reach a terminal state\n",
    "  while not is_terminal_state(row_index, column_index):\n",
    "    # escoger siguiente accion basandose en q values\n",
    "    action_index = get_next_action(row_index, column_index, epsilon)\n",
    "\n",
    "    # pasar a la siguiente posicion\n",
    "    old_row_index, old_column_index = row_index, column_index # guardar la posicion antigua\n",
    "    row_index, column_index = get_next_location(row_index, column_index, action_index)\n",
    "\n",
    "    # Obtener la recompensa por moverse al siguiente estado\n",
    "    # Calcular la temporal difference\n",
    "    reward = rewards[row_index, column_index]\n",
    "    if reward == 100 and reward_counter == 0:\n",
    "      get_next_reward_map(reward_counter)\n",
    "      reward_counter += 1\n",
    "      \n",
    "    old_q_value = q_values[old_row_index, old_column_index, action_index]\n",
    "    temporal_difference = reward + (discount_factor * np.max(q_values[row_index, column_index])) - old_q_value\n",
    "\n",
    "    # Actualizar el Q value para la anterior tupla de estado y accion\n",
    "    new_q_value = old_q_value + (learning_rate * temporal_difference)\n",
    "    q_values[old_row_index, old_column_index, action_index] = new_q_value\n",
    "\n",
    "print('Training complete!')"
   ]
  },
  {
   "cell_type": "code",
   "execution_count": 217,
   "metadata": {},
   "outputs": [
    {
     "data": {
      "image/png": "[encoded data removed]",
      "text/plain": [
       "<Figure size 640x480 with 1 Axes>"
      ]
     },
     "metadata": {},
     "output_type": "display_data"
    }
   ],
   "source": [
    "#display shortest path\n",
    "shortest_path = get_shortest_path(0, 0) \n",
    "\n",
    "#plot\n",
    "fig, ax = plt.subplots()\n",
    "\n",
    "color_dict = {-1: 'white', -100: 'black', 100: 'green'}\n",
    "\n",
    "for i in range(rows):\n",
    "    for j in range(columns):\n",
    "        reward_value = rewards[i, j]\n",
    "        color = color_dict.get(reward_value, 'grey')\n",
    "\n",
    "        # Check if the current cell is in the shortest path\n",
    "        if [i, j] in shortest_path:\n",
    "            color = 'blue'  # Override the color if the cell is part of the shortest path\n",
    "\n",
    "        rect = plt.Rectangle((j, rows - i - 1), 1, 1, color=color)\n",
    "        ax.add_patch(rect)\n",
    "        text = ax.text(j + 0.5, rows - i - 0.5, int(reward_value), ha=\"center\", va=\"center\", color=\"black\")\n",
    "\n",
    "ax.set_xlim(0, columns)\n",
    "ax.set_ylim(0, rows)\n",
    "ax.set_xticks(np.arange(0, columns, 1))\n",
    "ax.set_yticks(np.arange(0, rows, 1))\n",
    "ax.grid(which='both')\n",
    "\n",
    "plt.show()"
   ]
  }
 ],
 "metadata": {
  "kernelspec": {
   "display_name": "Python 3",
   "language": "python",
   "name": "python3"
  },
  "language_info": {
   "codemirror_mode": {
    "name": "ipython",
    "version": 3
   },
   "file_extension": ".py",
   "mimetype": "text/x-python",
   "name": "python",
   "nbconvert_exporter": "python",
   "pygments_lexer": "ipython3",
   "version": "3.11.6"
  }
 },
 "nbformat": 4,
 "nbformat_minor": 2
}
